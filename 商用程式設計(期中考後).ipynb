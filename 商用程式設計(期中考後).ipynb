{
 "cells": [
  {
   "cell_type": "markdown",
   "metadata": {},
   "source": [
    "# 第三章 流程控制"
   ]
  },
  {
   "cell_type": "code",
   "execution_count": 1,
   "metadata": {},
   "outputs": [
    {
     "name": "stdout",
     "output_type": "stream",
     "text": [
      "請輸入攝氏溫度:20\n",
      "華氏溫度為: 68.0\n"
     ]
    }
   ],
   "source": [
    "celsius=float(input('請輸入攝氏溫度:')) # 將輸入的攝氏溫度改為華氏溫度\n",
    "fahrenheit=(9/5) * celsius + 32\n",
    "print('華氏溫度為:',fahrenheit)"
   ]
  },
  {
   "cell_type": "code",
   "execution_count": 2,
   "metadata": {},
   "outputs": [
    {
     "name": "stdout",
     "output_type": "stream",
     "text": [
      "樣本= [5, 8, 9, 6, 4, 1, 2, 3, 5, 6]\n",
      "平均數 4.9\n",
      "最大數 9\n",
      "最小數 1\n",
      "變異數 6.32\n",
      "標準差 2.51\n"
     ]
    }
   ],
   "source": [
    "import statistics as st # 匯入統計\n",
    "sample=[5,8,9,6,4,1,2,3,5,6]\n",
    "print('樣本=', sample)\n",
    "print('平均數', st.mean(sample))\n",
    "print('最大數', max(sample))\n",
    "print('最小數', min(sample))\n",
    "print('變異數', round(st.variance(sample),2))\n",
    "print('標準差', round(st.stdev(sample), 2))"
   ]
  },
  {
   "cell_type": "markdown",
   "metadata": {},
   "source": [
    "# if"
   ]
  },
  {
   "cell_type": "code",
   "execution_count": 5,
   "metadata": {},
   "outputs": [
    {
     "name": "stdout",
     "output_type": "stream",
     "text": [
      "請輸入numA:3\n",
      "請輸入numB:3\n",
      "numA和numB是相同的\n"
     ]
    }
   ],
   "source": [
    "numA = int(input('請輸入numA:'))\n",
    "numB = int(input('請輸入numB:'))\n",
    "if numA < numB:\n",
    "    print('numB是比較大的數')\n",
    "elif numA > numB:\n",
    "    print('numA是比較大的數')\n",
    "else:\n",
    "    print('numA和numB是相同的')"
   ]
  },
  {
   "cell_type": "markdown",
   "metadata": {},
   "source": [
    "# for 迴圈"
   ]
  },
  {
   "cell_type": "code",
   "execution_count": 3,
   "metadata": {},
   "outputs": [
    {
     "name": "stdout",
     "output_type": "stream",
     "text": [
      "總和: 55\n"
     ]
    }
   ],
   "source": [
    "sum = 0\n",
    "for i in range(1, 11): # 跑for迴圈，加總一到十之間的數\n",
    "    sum = sum + i\n",
    "print('總和:', sum)"
   ]
  },
  {
   "cell_type": "code",
   "execution_count": 9,
   "metadata": {},
   "outputs": [
    {
     "name": "stdout",
     "output_type": "stream",
     "text": [
      "總和: 49\n"
     ]
    }
   ],
   "source": [
    "sample=[5,8,9,6,4,1,2,3,5,6]\n",
    "sum=0\n",
    "for i in sample:\n",
    "    sum=sum + i\n",
    "print('總和:', sum)"
   ]
  },
  {
   "cell_type": "markdown",
   "metadata": {},
   "source": [
    "# In-class exercise 隨堂練習\n",
    "## 雞兔同籠問題進行求解 若共有35個頭 94隻腳 問共有幾隻雞?幾隻兔"
   ]
  },
  {
   "cell_type": "code",
   "execution_count": 13,
   "metadata": {},
   "outputs": [
    {
     "name": "stdout",
     "output_type": "stream",
     "text": [
      "兔子有 12 隻\n",
      "雞有 23 隻\n"
     ]
    }
   ],
   "source": [
    "head = 35\n",
    "leg = 94\n",
    "for rabbit in range(0, head+1):\n",
    "    chicken = head - rabbit\n",
    "    if((rabbit * 4 + chicken * 2) == 94):\n",
    "        print('兔子有', rabbit, '隻')\n",
    "        print('雞有', chicken, '隻')"
   ]
  },
  {
   "cell_type": "code",
   "execution_count": 14,
   "metadata": {},
   "outputs": [
    {
     "name": "stdout",
     "output_type": "stream",
     "text": [
      "I\n",
      " \n",
      "L\n",
      "o\n",
      "v\n",
      "e\n",
      " \n",
      "A\n",
      "v\n",
      "e\n",
      "n\n",
      "g\n",
      "e\n",
      "r\n",
      "s\n",
      " \n",
      "I\n",
      "V\n"
     ]
    }
   ],
   "source": [
    "mylist='I Love Avengers IV'\n",
    "for character in mylist:\n",
    "    print(character)"
   ]
  },
  {
   "cell_type": "markdown",
   "metadata": {},
   "source": [
    "# While 迴圈\n",
    "\n",
    "# 1+2+3+...+10的總和"
   ]
  },
  {
   "cell_type": "code",
   "execution_count": 1,
   "metadata": {},
   "outputs": [
    {
     "name": "stdout",
     "output_type": "stream",
     "text": [
      "1+2+3+...+10 =  55\n"
     ]
    }
   ],
   "source": [
    "sum = 0\n",
    "count = 1\n",
    "while count <= 10:\n",
    "    sum = sum + count # sum += count\n",
    "    count = count + 1 # count += 1\n",
    "print('1+2+3+...+10 = ', sum)"
   ]
  },
  {
   "cell_type": "markdown",
   "metadata": {},
   "source": [
    "# 銀行利息範例"
   ]
  },
  {
   "cell_type": "code",
   "execution_count": 2,
   "metadata": {},
   "outputs": [
    {
     "name": "stdout",
     "output_type": "stream",
     "text": [
      "67 年後，存款金額會加倍\n"
     ]
    }
   ],
   "source": [
    "x = 10000\n",
    "year = 0\n",
    "while x < 20000: # 當存款還沒超過20000元的時候，就繼續\n",
    "    year += 1\n",
    "    x = x * 1.0104 # 1.0104 就是當前的利率\n",
    "print(str(year), '年後，存款金額會加倍')"
   ]
  },
  {
   "cell_type": "markdown",
   "metadata": {},
   "source": [
    "# 帳號密碼程式"
   ]
  },
  {
   "cell_type": "code",
   "execution_count": 4,
   "metadata": {},
   "outputs": [
    {
     "name": "stdout",
     "output_type": "stream",
     "text": [
      "請輸入帳號 : 123\n",
      "請輸入密碼 : 123\n",
      "帳號或密碼輸入錯誤\n",
      "請輸入帳號 : hawk\n",
      "請輸入密碼 : 5656\n",
      "帳號或密碼輸入錯誤\n",
      "請輸入帳號 : uiui\n",
      "請輸入密碼 : 84265\n",
      "帳號或密碼輸入錯誤\n",
      "請輸入帳號 : hawk\n",
      "請輸入密碼 : 84265\n",
      "歡迎登入\n"
     ]
    }
   ],
   "source": [
    "id = 'hawk'\n",
    "password = '84265'\n",
    "while True:\n",
    "    x = input('請輸入帳號 : ')\n",
    "    y = input('請輸入密碼 : ')\n",
    "    if(x == id and y == password):\n",
    "        print('歡迎登入')\n",
    "        break # 如果兩者都對，就跳脫while迴圈\n",
    "    else:\n",
    "        print('帳號或密碼輸入錯誤') # 如果其中之一不對，那就繼續跑迴圈"
   ]
  },
  {
   "cell_type": "markdown",
   "metadata": {},
   "source": [
    "# break, continue, pass 範例"
   ]
  },
  {
   "cell_type": "code",
   "execution_count": 5,
   "metadata": {},
   "outputs": [
    {
     "name": "stdout",
     "output_type": "stream",
     "text": [
      "C#\n",
      "Python\n"
     ]
    }
   ],
   "source": [
    "mylist = ['C#', 'Python', 'F#', 'JavaScript']\n",
    "for script in mylist:\n",
    "    if(script == 'F#'):\n",
    "        break # 如果遇到F#就跳脫foreach\n",
    "    else:\n",
    "        print(script)   "
   ]
  },
  {
   "cell_type": "code",
   "execution_count": 6,
   "metadata": {},
   "outputs": [
    {
     "name": "stdout",
     "output_type": "stream",
     "text": [
      "C#\n",
      "Python\n",
      "JavaScript\n"
     ]
    }
   ],
   "source": [
    "mylist = ['C#', 'Python', 'F#', 'JavaScript']\n",
    "for script in mylist:\n",
    "    if(script == 'F#'):\n",
    "        continue # 如果遇到F#那就繼續跑迴圈\n",
    "    else:\n",
    "        print(script)   "
   ]
  },
  {
   "cell_type": "code",
   "execution_count": 7,
   "metadata": {},
   "outputs": [
    {
     "name": "stdout",
     "output_type": "stream",
     "text": [
      "C#\n",
      "Python\n",
      "JavaScript\n"
     ]
    }
   ],
   "source": [
    "mylist = ['C#', 'Python', 'F#', 'JavaScript']\n",
    "for script in mylist:\n",
    "    if(script == 'F#'):\n",
    "        pass # 如果遇到F#那就通過\n",
    "    else:\n",
    "        print(script) "
   ]
  },
  {
   "cell_type": "markdown",
   "metadata": {},
   "source": [
    "# 亂數"
   ]
  },
  {
   "cell_type": "code",
   "execution_count": 8,
   "metadata": {},
   "outputs": [
    {
     "name": "stdout",
     "output_type": "stream",
     "text": [
      "0.049971496965325435\n",
      "0.46524349202051474\n",
      "0.4139833687715604\n",
      "0.0981418634438187\n",
      "0.07845037828831158\n",
      "0.4883252957268506\n",
      "0.1967566793023625\n",
      "0.1691434591375217\n",
      "0.12970935530665395\n",
      "0.77285731349732\n"
     ]
    }
   ],
   "source": [
    "import random\n",
    "for i in range(0, 10):\n",
    "    print(random.random())"
   ]
  },
  {
   "cell_type": "code",
   "execution_count": 9,
   "metadata": {},
   "outputs": [
    {
     "name": "stdout",
     "output_type": "stream",
     "text": [
      "8\n",
      "6\n",
      "3\n",
      "6\n",
      "6\n",
      "6\n",
      "7\n",
      "3\n",
      "7\n",
      "6\n"
     ]
    }
   ],
   "source": [
    "for i in range(0, 10):\n",
    "    print(random.randint(1, 9))"
   ]
  },
  {
   "cell_type": "code",
   "execution_count": 10,
   "metadata": {},
   "outputs": [
    {
     "name": "stdout",
     "output_type": "stream",
     "text": [
      "請猜一個1-9的數字(q是離開):1\n",
      "猜錯了\n",
      "請猜一個1-9的數字(q是離開):2\n",
      "猜錯了\n",
      "請猜一個1-9的數字(q是離開):3\n",
      "猜錯了\n",
      "請猜一個1-9的數字(q是離開):4\n",
      "猜錯了\n",
      "請猜一個1-9的數字(q是離開):5\n",
      "猜錯了\n",
      "請猜一個1-9的數字(q是離開):6\n",
      "猜錯了\n",
      "請猜一個1-9的數字(q是離開):7\n",
      "猜錯了\n",
      "請猜一個1-9的數字(q是離開):8\n",
      "猜錯了\n",
      "請猜一個1-9的數字(q是離開):9\n",
      "恭喜，猜對了\n"
     ]
    }
   ],
   "source": [
    "import random\n",
    "number = random.randint(1,9)\n",
    "while True:\n",
    "    guess = input('請猜一個1-9的數字(q是離開):')\n",
    "    if guess == 'q':\n",
    "        print('離開遊戲,正確數字是-->', number)\n",
    "        break\n",
    "    else:\n",
    "        if number == int(guess):\n",
    "            print('恭喜，猜對了')\n",
    "            break\n",
    "        else:\n",
    "            print('猜錯了')   "
   ]
  },
  {
   "cell_type": "markdown",
   "metadata": {},
   "source": [
    "# numpy套件"
   ]
  },
  {
   "cell_type": "code",
   "execution_count": 3,
   "metadata": {},
   "outputs": [
    {
     "name": "stdout",
     "output_type": "stream",
     "text": [
      "[54 63 72 81 90]\n"
     ]
    }
   ],
   "source": [
    "# numpy套件ndarray型態，提供element-wise的操作\n",
    "import numpy as np\n",
    "a_ndarray = np.array([6,7,8,9,10])\n",
    "print(a_ndarray*9)"
   ]
  },
  {
   "cell_type": "code",
   "execution_count": 4,
   "metadata": {},
   "outputs": [
    {
     "name": "stdout",
     "output_type": "stream",
     "text": [
      "<class 'numpy.ndarray'>\n",
      "1\n",
      "(5,)\n",
      "int32\n"
     ]
    }
   ],
   "source": [
    "print(type(a_ndarray))\n",
    "print(a_ndarray.ndim) # ndarray的維度\n",
    "print(a_ndarray.shape) # ndarray的shape\n",
    "print(a_ndarray.dtype) # ndarray的資料型態"
   ]
  },
  {
   "cell_type": "code",
   "execution_count": 6,
   "metadata": {},
   "outputs": [
    {
     "name": "stdout",
     "output_type": "stream",
     "text": [
      "[0. 0. 0. 0. 0. 0. 0.]\n",
      "[[0. 0. 0. 0. 0. 0. 0.]\n",
      " [0. 0. 0. 0. 0. 0. 0.]]\n",
      "[[[1.06313836e-311 1.06313851e-311 2.31222722e-321]\n",
      "  [            nan 1.85843969e-229 2.10053203e-301]\n",
      "  [2.49329550e-306 1.63422598e-301 1.08384688e-296]\n",
      "  [4.59723154e-287 9.37698370e-273 2.58046969e-263]\n",
      "  [1.94165660e-292 2.21763328e-301 3.82282279e-297]\n",
      "  [3.12429791e-282 5.03166037e+204 1.07131023e-296]\n",
      "  [4.71280699e-287 9.50334730e-273 1.45424407e-296]]\n",
      "\n",
      " [[1.94165662e-292 1.64612952e-287 2.21653674e-301]\n",
      "  [4.54305905e-268 1.55787426e-307 1.07249955e-296]\n",
      "  [1.34081024e-272 8.78476792e-268 1.41264609e-277]\n",
      "  [7.07007366e-278 2.21653674e-301 4.09244559e-268]\n",
      "  [7.02191385e-292 1.41264514e-277 9.28672379e-273]\n",
      "  [1.45424407e-296 1.94165662e-292 1.55787426e-307]\n",
      "  [3.74710271e-301 1.63400526e-301 1.63423312e-301]]\n",
      "\n",
      " [[1.63696068e-301 7.12553096e+175 5.17360531e-297]\n",
      "  [8.85521664e-220 2.78222723e-308 1.63400526e-301]\n",
      "  [3.73896578e-301 3.80922936e-210 2.49253257e-205]\n",
      "  [8.48023363e-268 3.77406523e-258 3.47748428e-308]\n",
      "  [1.30647416e-258 1.10751934e-195 3.64598601e-258]\n",
      "  [1.40996105e-309 4.09244564e-268 2.47468220e-253]\n",
      "  [1.55787426e-307 1.55787426e-307 5.43233610e-312]]]\n",
      "[ 0  1  2  3  4  5  6  7  8  9 10 11]\n"
     ]
    }
   ],
   "source": [
    "s=np.zeros(7)\n",
    "print(s) # 7個元素都為0的一維陣列\n",
    "print(np.zeros((2,7))) # 14個元素都為0的二維陣列\n",
    "print(np.empty((3,7,3))) # 63個元素都為初始化的值\n",
    "print(np.arange(12)) # 12個元素為0-11的一維陣列"
   ]
  },
  {
   "cell_type": "markdown",
   "metadata": {},
   "source": [
    "# ndarray 進階操作"
   ]
  },
  {
   "cell_type": "code",
   "execution_count": 7,
   "metadata": {},
   "outputs": [
    {
     "name": "stdout",
     "output_type": "stream",
     "text": [
      "[0 1 2 3 4 5 6 7 8 9]\n",
      "0\n",
      "[0 1 2 3 4]\n"
     ]
    }
   ],
   "source": [
    "my_array=np.arange(10)\n",
    "print(my_array)\n",
    "print(my_array[0])\n",
    "print(my_array[0:5])"
   ]
  },
  {
   "cell_type": "code",
   "execution_count": 11,
   "metadata": {},
   "outputs": [
    {
     "name": "stdout",
     "output_type": "stream",
     "text": [
      "[[0 1 2 3 4]\n",
      " [5 6 7 8 9]]\n",
      "[0 1 2 3 4]\n",
      "[0 5]\n",
      "0\n"
     ]
    }
   ],
   "source": [
    "# 二維ndarray取值\n",
    "my_2d_array = np.array([np.arange(0,5), np.arange(5,10)])\n",
    "print(my_2d_array)\n",
    "print(my_2d_array[0,:]) # 第一列資料\n",
    "print(my_2d_array[:,0]) # 第一欄資料\n",
    "print(my_2d_array[0,0]) # 第一列第一欄資料"
   ]
  },
  {
   "cell_type": "code",
   "execution_count": 13,
   "metadata": {},
   "outputs": [
    {
     "name": "stdout",
     "output_type": "stream",
     "text": [
      "['Modern Web' 'DevOps' 'Cloud' 'Big Data' 'Security' '自我挑戰組']\n",
      "[56  8 19 14  6 71]\n"
     ]
    }
   ],
   "source": [
    "# 假設有六個組別\"Modern Web\", \"DevOps\", \"Cloud\", \"Big Data\", \"Security\", \"自我挑戰組\"\n",
    "# 其參加人數分別為56, 8, 19, 14, 6, 71人\n",
    "groups=[\"Modern Web\", \"DevOps\", \"Cloud\", \"Big Data\", \"Security\", \"自我挑戰組\"]\n",
    "ironman = [56, 8, 19, 14, 6, 71]\n",
    "groups_array = np.array(groups)\n",
    "ironman_array = np.array(ironman)\n",
    "print(groups_array)\n",
    "print(ironman_array)"
   ]
  },
  {
   "cell_type": "code",
   "execution_count": 14,
   "metadata": {},
   "outputs": [
    {
     "name": "stdout",
     "output_type": "stream",
     "text": [
      "[ True False  True  True False  True]\n",
      "['Modern Web' 'Cloud' 'Big Data' '自我挑戰組']\n",
      "[ True  True  True  True  True False]\n",
      "[56  8 19 14  6]\n"
     ]
    }
   ],
   "source": [
    "# 用人數去篩選組別\n",
    "print(ironman_array >= 10) # 組別有大於10人的印出來，但是是True or false\n",
    "print(groups_array[ironman_array >= 10]) # 組別有大於10人的印出來\n",
    "print(groups_array != \"自我挑戰組\") \n",
    "print(ironman_array[groups_array != \"自我挑戰組\"]) # 除了自我挑戰組以外的組別人數"
   ]
  },
  {
   "cell_type": "markdown",
   "metadata": {},
   "source": [
    "# Ndarray 轉置"
   ]
  },
  {
   "cell_type": "code",
   "execution_count": 15,
   "metadata": {},
   "outputs": [
    {
     "name": "stdout",
     "output_type": "stream",
     "text": [
      "[0 1 2 3 4 5 6 7 8 9]\n",
      "[[0 1 2 3 4]\n",
      " [5 6 7 8 9]]\n",
      "[[0 5]\n",
      " [1 6]\n",
      " [2 7]\n",
      " [3 8]\n",
      " [4 9]]\n"
     ]
    }
   ],
   "source": [
    "my_1d_array = np.arange(10)\n",
    "print(my_1d_array)\n",
    "my_2d_array = my_1d_array.reshape((2,5))\n",
    "print(my_2d_array)\n",
    "print(my_2d_array.T)"
   ]
  },
  {
   "cell_type": "code",
   "execution_count": 16,
   "metadata": {},
   "outputs": [
    {
     "name": "stdout",
     "output_type": "stream",
     "text": [
      "[[ 0  1  2  3  4  5]\n",
      " [ 6  7  8  9 10 11]\n",
      " [12 13 14 15 16 17]\n",
      " [18 19 20 21 22 23]]\n"
     ]
    }
   ],
   "source": [
    "print(np.arange(24).reshape(4,6))"
   ]
  },
  {
   "cell_type": "code",
   "execution_count": 17,
   "metadata": {},
   "outputs": [
    {
     "name": "stdout",
     "output_type": "stream",
     "text": [
      "[50. 70. 60. 34. nan]\n"
     ]
    }
   ],
   "source": [
    "# ndarray nan(空值)\n",
    "nan_array = np.array([50, 70, 60, 34, np.nan])\n",
    "print(nan_array)"
   ]
  },
  {
   "cell_type": "markdown",
   "metadata": {},
   "source": [
    "# Pandas Data Frame"
   ]
  },
  {
   "cell_type": "code",
   "execution_count": 1,
   "metadata": {},
   "outputs": [
    {
     "data": {
      "text/html": [
       "<div>\n",
       "<style scoped>\n",
       "    .dataframe tbody tr th:only-of-type {\n",
       "        vertical-align: middle;\n",
       "    }\n",
       "\n",
       "    .dataframe tbody tr th {\n",
       "        vertical-align: top;\n",
       "    }\n",
       "\n",
       "    .dataframe thead th {\n",
       "        text-align: right;\n",
       "    }\n",
       "</style>\n",
       "<table border=\"1\" class=\"dataframe\">\n",
       "  <thead>\n",
       "    <tr style=\"text-align: right;\">\n",
       "      <th></th>\n",
       "      <th>groups</th>\n",
       "      <th>ironmen</th>\n",
       "    </tr>\n",
       "  </thead>\n",
       "  <tbody>\n",
       "    <tr>\n",
       "      <th>0</th>\n",
       "      <td>Modern Web</td>\n",
       "      <td>56</td>\n",
       "    </tr>\n",
       "    <tr>\n",
       "      <th>1</th>\n",
       "      <td>DevOps</td>\n",
       "      <td>8</td>\n",
       "    </tr>\n",
       "    <tr>\n",
       "      <th>2</th>\n",
       "      <td>Cloud</td>\n",
       "      <td>19</td>\n",
       "    </tr>\n",
       "    <tr>\n",
       "      <th>3</th>\n",
       "      <td>Big Data</td>\n",
       "      <td>14</td>\n",
       "    </tr>\n",
       "    <tr>\n",
       "      <th>4</th>\n",
       "      <td>Security</td>\n",
       "      <td>6</td>\n",
       "    </tr>\n",
       "    <tr>\n",
       "      <th>5</th>\n",
       "      <td>自我挑戰組</td>\n",
       "      <td>71</td>\n",
       "    </tr>\n",
       "  </tbody>\n",
       "</table>\n",
       "</div>"
      ],
      "text/plain": [
       "       groups  ironmen\n",
       "0  Modern Web       56\n",
       "1      DevOps        8\n",
       "2       Cloud       19\n",
       "3    Big Data       14\n",
       "4    Security        6\n",
       "5       自我挑戰組       71"
      ]
     },
     "execution_count": 1,
     "metadata": {},
     "output_type": "execute_result"
    }
   ],
   "source": [
    "import pandas as pd\n",
    "\n",
    "groups=[\"Modern Web\", \"DevOps\", \"Cloud\", \"Big Data\", \"Security\", \"自我挑戰組\"]\n",
    "ironmen = [56, 8, 19, 14, 6, 71]\n",
    "ironmen_dict = {\n",
    "    \"groups\": groups,\n",
    "    \"ironmen\": ironmen       \n",
    "               }\n",
    "ironmen_df = pd.DataFrame(ironmen_dict)\n",
    "ironmen_df"
   ]
  },
  {
   "cell_type": "code",
   "execution_count": 3,
   "metadata": {},
   "outputs": [
    {
     "name": "stdout",
     "output_type": "stream",
     "text": [
      "2\n",
      "(6, 2)\n",
      "groups     object\n",
      "ironmen     int64\n",
      "dtype: object\n"
     ]
    }
   ],
   "source": [
    "print(ironmen_df.ndim) #印出維度\n",
    "print(ironmen_df.shape) #印出幾乘幾\n",
    "print(ironmen_df.dtypes) #印出型態  object 就是字串"
   ]
  },
  {
   "cell_type": "code",
   "execution_count": 4,
   "metadata": {},
   "outputs": [
    {
     "name": "stdout",
     "output_type": "stream",
     "text": [
      "groups     Modern WebDevOpsCloudBig DataSecurity自我挑戰組\n",
      "ironmen                                           174\n",
      "dtype: object\n",
      "174\n",
      "ironmen    29.0\n",
      "dtype: float64\n",
      "ironmen    16.5\n",
      "dtype: float64\n",
      "         ironmen\n",
      "count   6.000000\n",
      "mean   29.000000\n",
      "std    27.524535\n",
      "min     6.000000\n",
      "25%     9.500000\n",
      "50%    16.500000\n",
      "75%    46.750000\n",
      "max    71.000000\n"
     ]
    }
   ],
   "source": [
    "print(ironmen_df.sum()) #印出總和 object 就是字串加起來\n",
    "print(ironmen_df.ironmen.sum()) # 印出人數總和\n",
    "print(ironmen_df.mean()) #印出平均數\n",
    "print(ironmen_df.median()) #印出中位數\n",
    "print(ironmen_df.describe()) #印出所有資料"
   ]
  },
  {
   "cell_type": "code",
   "execution_count": 5,
   "metadata": {},
   "outputs": [
    {
     "name": "stdout",
     "output_type": "stream",
     "text": [
      "0    False\n",
      "1    False\n",
      "2     True\n",
      "3    False\n",
      "4    False\n",
      "5    False\n",
      "6    False\n",
      "Name: groups, dtype: bool\n",
      "0     True\n",
      "1     True\n",
      "2     True\n",
      "3     True\n",
      "4     True\n",
      "5     True\n",
      "6    False\n",
      "Name: ironmen, dtype: bool\n"
     ]
    }
   ],
   "source": [
    "import pandas as pd\n",
    "import numpy as np\n",
    "\n",
    "groups=[\"Modern Web\", \"DevOps\", np.nan, \"Cloud\", \"Big Data\", \"Security\", \"自我挑戰組\"]\n",
    "ironmen = [56, 8, 19, 14, 6, 71, np.nan]\n",
    "ironmen_dict = {\n",
    "    \"groups\": groups,\n",
    "    \"ironmen\": ironmen       \n",
    "               }\n",
    "ironmen_df = pd.DataFrame(ironmen_dict)\n",
    "print(ironmen_df.loc[:, \"groups\"].isnull()) #判斷哪些組的組名事遺失值\n",
    "print(ironmen_df.loc[:, \"ironmen\"].notnull()) #判斷哪些組的人數不是遺失值"
   ]
  },
  {
   "cell_type": "code",
   "execution_count": 6,
   "metadata": {},
   "outputs": [
    {
     "data": {
      "text/html": [
       "<div>\n",
       "<style scoped>\n",
       "    .dataframe tbody tr th:only-of-type {\n",
       "        vertical-align: middle;\n",
       "    }\n",
       "\n",
       "    .dataframe tbody tr th {\n",
       "        vertical-align: top;\n",
       "    }\n",
       "\n",
       "    .dataframe thead th {\n",
       "        text-align: right;\n",
       "    }\n",
       "</style>\n",
       "<table border=\"1\" class=\"dataframe\">\n",
       "  <thead>\n",
       "    <tr style=\"text-align: right;\">\n",
       "      <th></th>\n",
       "      <th>groups</th>\n",
       "      <th>ironmen</th>\n",
       "    </tr>\n",
       "  </thead>\n",
       "  <tbody>\n",
       "    <tr>\n",
       "      <th>0</th>\n",
       "      <td>Modern Web</td>\n",
       "      <td>56.0</td>\n",
       "    </tr>\n",
       "    <tr>\n",
       "      <th>1</th>\n",
       "      <td>DevOps</td>\n",
       "      <td>8.0</td>\n",
       "    </tr>\n",
       "    <tr>\n",
       "      <th>2</th>\n",
       "      <td>29</td>\n",
       "      <td>19.0</td>\n",
       "    </tr>\n",
       "    <tr>\n",
       "      <th>3</th>\n",
       "      <td>Cloud</td>\n",
       "      <td>14.0</td>\n",
       "    </tr>\n",
       "    <tr>\n",
       "      <th>4</th>\n",
       "      <td>Big Data</td>\n",
       "      <td>6.0</td>\n",
       "    </tr>\n",
       "    <tr>\n",
       "      <th>5</th>\n",
       "      <td>Security</td>\n",
       "      <td>71.0</td>\n",
       "    </tr>\n",
       "    <tr>\n",
       "      <th>6</th>\n",
       "      <td>自我挑戰組</td>\n",
       "      <td>29.0</td>\n",
       "    </tr>\n",
       "  </tbody>\n",
       "</table>\n",
       "</div>"
      ],
      "text/plain": [
       "       groups  ironmen\n",
       "0  Modern Web     56.0\n",
       "1      DevOps      8.0\n",
       "2          29     19.0\n",
       "3       Cloud     14.0\n",
       "4    Big Data      6.0\n",
       "5    Security     71.0\n",
       "6       自我挑戰組     29.0"
      ]
     },
     "execution_count": 6,
     "metadata": {},
     "output_type": "execute_result"
    }
   ],
   "source": [
    "a=ironmen_df.dropna() #刪除空值\n",
    "b=ironmen_df.fillna(0) #空值補0\n",
    "c=ironmen_df.fillna(ironmen_df.ironmen.mean()) #空值補平均數\n",
    "a\n",
    "b\n",
    "c"
   ]
  },
  {
   "cell_type": "code",
   "execution_count": 8,
   "metadata": {},
   "outputs": [
    {
     "data": {
      "text/html": [
       "<div>\n",
       "<style scoped>\n",
       "    .dataframe tbody tr th:only-of-type {\n",
       "        vertical-align: middle;\n",
       "    }\n",
       "\n",
       "    .dataframe tbody tr th {\n",
       "        vertical-align: top;\n",
       "    }\n",
       "\n",
       "    .dataframe thead th {\n",
       "        text-align: right;\n",
       "    }\n",
       "</style>\n",
       "<table border=\"1\" class=\"dataframe\">\n",
       "  <thead>\n",
       "    <tr style=\"text-align: right;\">\n",
       "      <th></th>\n",
       "      <th>ironmen</th>\n",
       "    </tr>\n",
       "  </thead>\n",
       "  <tbody>\n",
       "    <tr>\n",
       "      <th>Big Data</th>\n",
       "      <td>14</td>\n",
       "    </tr>\n",
       "    <tr>\n",
       "      <th>Cloud</th>\n",
       "      <td>19</td>\n",
       "    </tr>\n",
       "    <tr>\n",
       "      <th>DevOps</th>\n",
       "      <td>8</td>\n",
       "    </tr>\n",
       "    <tr>\n",
       "      <th>Modern Web</th>\n",
       "      <td>56</td>\n",
       "    </tr>\n",
       "    <tr>\n",
       "      <th>Security</th>\n",
       "      <td>6</td>\n",
       "    </tr>\n",
       "    <tr>\n",
       "      <th>自我挑戰組</th>\n",
       "      <td>71</td>\n",
       "    </tr>\n",
       "  </tbody>\n",
       "</table>\n",
       "</div>"
      ],
      "text/plain": [
       "            ironmen\n",
       "Big Data         14\n",
       "Cloud            19\n",
       "DevOps            8\n",
       "Modern Web       56\n",
       "Security          6\n",
       "自我挑戰組            71"
      ]
     },
     "execution_count": 8,
     "metadata": {},
     "output_type": "execute_result"
    }
   ],
   "source": [
    "import pandas as pd\n",
    "\n",
    "groups=[\"Modern Web\", \"DevOps\", \"Cloud\", \"Big Data\", \"Security\", \"自我挑戰組\"]\n",
    "ironmen = [56, 8, 19, 14, 6, 71]\n",
    "#建立 Data Frame\n",
    "ironmen_df = pd.DataFrame(ironmen, columns = [\"ironmen\"], index = groups)\n",
    "ironmen_df.sort_index()"
   ]
  },
  {
   "cell_type": "markdown",
   "metadata": {},
   "source": [
    "# 雲端載入"
   ]
  },
  {
   "cell_type": "code",
   "execution_count": 2,
   "metadata": {},
   "outputs": [
    {
     "data": {
      "text/html": [
       "<div>\n",
       "<style scoped>\n",
       "    .dataframe tbody tr th:only-of-type {\n",
       "        vertical-align: middle;\n",
       "    }\n",
       "\n",
       "    .dataframe tbody tr th {\n",
       "        vertical-align: top;\n",
       "    }\n",
       "\n",
       "    .dataframe thead th {\n",
       "        text-align: right;\n",
       "    }\n",
       "</style>\n",
       "<table border=\"1\" class=\"dataframe\">\n",
       "  <thead>\n",
       "    <tr style=\"text-align: right;\">\n",
       "      <th></th>\n",
       "      <th>Sepal.Length</th>\n",
       "      <th>Sepal.Width</th>\n",
       "      <th>Petal.Length</th>\n",
       "      <th>Petal.Width</th>\n",
       "      <th>Species</th>\n",
       "    </tr>\n",
       "  </thead>\n",
       "  <tbody>\n",
       "    <tr>\n",
       "      <th>0</th>\n",
       "      <td>5.1</td>\n",
       "      <td>3.5</td>\n",
       "      <td>1.4</td>\n",
       "      <td>0.2</td>\n",
       "      <td>setosa</td>\n",
       "    </tr>\n",
       "    <tr>\n",
       "      <th>1</th>\n",
       "      <td>4.9</td>\n",
       "      <td>3.0</td>\n",
       "      <td>1.4</td>\n",
       "      <td>0.2</td>\n",
       "      <td>setosa</td>\n",
       "    </tr>\n",
       "    <tr>\n",
       "      <th>2</th>\n",
       "      <td>4.7</td>\n",
       "      <td>3.2</td>\n",
       "      <td>1.3</td>\n",
       "      <td>0.2</td>\n",
       "      <td>setosa</td>\n",
       "    </tr>\n",
       "    <tr>\n",
       "      <th>3</th>\n",
       "      <td>4.6</td>\n",
       "      <td>3.1</td>\n",
       "      <td>1.5</td>\n",
       "      <td>0.2</td>\n",
       "      <td>setosa</td>\n",
       "    </tr>\n",
       "    <tr>\n",
       "      <th>4</th>\n",
       "      <td>5.0</td>\n",
       "      <td>3.6</td>\n",
       "      <td>1.4</td>\n",
       "      <td>0.2</td>\n",
       "      <td>setosa</td>\n",
       "    </tr>\n",
       "  </tbody>\n",
       "</table>\n",
       "</div>"
      ],
      "text/plain": [
       "   Sepal.Length  Sepal.Width  Petal.Length  Petal.Width Species\n",
       "0           5.1          3.5           1.4          0.2  setosa\n",
       "1           4.9          3.0           1.4          0.2  setosa\n",
       "2           4.7          3.2           1.3          0.2  setosa\n",
       "3           4.6          3.1           1.5          0.2  setosa\n",
       "4           5.0          3.6           1.4          0.2  setosa"
      ]
     },
     "execution_count": 2,
     "metadata": {},
     "output_type": "execute_result"
    }
   ],
   "source": [
    "import pandas as pd\n",
    "\n",
    "url=\"https://storage.googleapis.com/2017_ithome_ironman/data/iris.csv\"\n",
    "\n",
    "iris_df = pd.read_csv(url)\n",
    "iris_df.head()"
   ]
  },
  {
   "cell_type": "code",
   "execution_count": 3,
   "metadata": {},
   "outputs": [
    {
     "data": {
      "text/plain": [
       "Sepal.Length    5.843333\n",
       "Sepal.Width     3.057333\n",
       "Petal.Length    3.758000\n",
       "Petal.Width     1.199333\n",
       "dtype: float64"
      ]
     },
     "execution_count": 3,
     "metadata": {},
     "output_type": "execute_result"
    }
   ],
   "source": [
    "iris_df.mean() # 取得平均數"
   ]
  },
  {
   "cell_type": "code",
   "execution_count": 4,
   "metadata": {},
   "outputs": [
    {
     "data": {
      "text/plain": [
       "5.8"
      ]
     },
     "execution_count": 4,
     "metadata": {},
     "output_type": "execute_result"
    }
   ],
   "source": [
    "iris_df['Sepal.Length'].median() # 取得中位數"
   ]
  },
  {
   "cell_type": "code",
   "execution_count": 6,
   "metadata": {},
   "outputs": [
    {
     "data": {
      "text/html": [
       "<div>\n",
       "<style scoped>\n",
       "    .dataframe tbody tr th:only-of-type {\n",
       "        vertical-align: middle;\n",
       "    }\n",
       "\n",
       "    .dataframe tbody tr th {\n",
       "        vertical-align: top;\n",
       "    }\n",
       "\n",
       "    .dataframe thead th {\n",
       "        text-align: right;\n",
       "    }\n",
       "</style>\n",
       "<table border=\"1\" class=\"dataframe\">\n",
       "  <thead>\n",
       "    <tr style=\"text-align: right;\">\n",
       "      <th></th>\n",
       "      <th>Sepal.Length</th>\n",
       "      <th>Sepal.Width</th>\n",
       "      <th>Petal.Length</th>\n",
       "      <th>Petal.Width</th>\n",
       "      <th>Species</th>\n",
       "    </tr>\n",
       "  </thead>\n",
       "  <tbody>\n",
       "    <tr>\n",
       "      <th>0</th>\n",
       "      <td>5.1</td>\n",
       "      <td>3.5</td>\n",
       "      <td>1.4</td>\n",
       "      <td>0.2</td>\n",
       "      <td>setosa</td>\n",
       "    </tr>\n",
       "    <tr>\n",
       "      <th>1</th>\n",
       "      <td>4.9</td>\n",
       "      <td>3.0</td>\n",
       "      <td>1.4</td>\n",
       "      <td>0.2</td>\n",
       "      <td>setosa</td>\n",
       "    </tr>\n",
       "    <tr>\n",
       "      <th>2</th>\n",
       "      <td>4.7</td>\n",
       "      <td>3.2</td>\n",
       "      <td>1.3</td>\n",
       "      <td>0.2</td>\n",
       "      <td>setosa</td>\n",
       "    </tr>\n",
       "    <tr>\n",
       "      <th>3</th>\n",
       "      <td>4.6</td>\n",
       "      <td>3.1</td>\n",
       "      <td>1.5</td>\n",
       "      <td>0.2</td>\n",
       "      <td>setosa</td>\n",
       "    </tr>\n",
       "    <tr>\n",
       "      <th>4</th>\n",
       "      <td>5.0</td>\n",
       "      <td>3.6</td>\n",
       "      <td>1.4</td>\n",
       "      <td>0.2</td>\n",
       "      <td>setosa</td>\n",
       "    </tr>\n",
       "  </tbody>\n",
       "</table>\n",
       "</div>"
      ],
      "text/plain": [
       "   Sepal.Length  Sepal.Width  Petal.Length  Petal.Width Species\n",
       "0           5.1          3.5           1.4          0.2  setosa\n",
       "1           4.9          3.0           1.4          0.2  setosa\n",
       "2           4.7          3.2           1.3          0.2  setosa\n",
       "3           4.6          3.1           1.5          0.2  setosa\n",
       "4           5.0          3.6           1.4          0.2  setosa"
      ]
     },
     "execution_count": 6,
     "metadata": {},
     "output_type": "execute_result"
    }
   ],
   "source": [
    "import pandas as pd\n",
    "\n",
    "iris_df = pd.read_csv('iris.csv')\n",
    "iris_df.head()"
   ]
  },
  {
   "cell_type": "code",
   "execution_count": 8,
   "metadata": {},
   "outputs": [
    {
     "data": {
      "text/html": [
       "<div>\n",
       "<style scoped>\n",
       "    .dataframe tbody tr th:only-of-type {\n",
       "        vertical-align: middle;\n",
       "    }\n",
       "\n",
       "    .dataframe tbody tr th {\n",
       "        vertical-align: top;\n",
       "    }\n",
       "\n",
       "    .dataframe thead th {\n",
       "        text-align: right;\n",
       "    }\n",
       "</style>\n",
       "<table border=\"1\" class=\"dataframe\">\n",
       "  <thead>\n",
       "    <tr style=\"text-align: right;\">\n",
       "      <th></th>\n",
       "      <th>Sepal.Length</th>\n",
       "      <th>Sepal.Width</th>\n",
       "      <th>Petal.Length</th>\n",
       "      <th>Petal.Width</th>\n",
       "      <th>Species</th>\n",
       "    </tr>\n",
       "  </thead>\n",
       "  <tbody>\n",
       "    <tr>\n",
       "      <th>0</th>\n",
       "      <td>5.1</td>\n",
       "      <td>3.5</td>\n",
       "      <td>1.4</td>\n",
       "      <td>0.2</td>\n",
       "      <td>setosa</td>\n",
       "    </tr>\n",
       "    <tr>\n",
       "      <th>1</th>\n",
       "      <td>4.9</td>\n",
       "      <td>3.0</td>\n",
       "      <td>1.4</td>\n",
       "      <td>0.2</td>\n",
       "      <td>setosa</td>\n",
       "    </tr>\n",
       "    <tr>\n",
       "      <th>2</th>\n",
       "      <td>4.7</td>\n",
       "      <td>3.2</td>\n",
       "      <td>1.3</td>\n",
       "      <td>0.2</td>\n",
       "      <td>setosa</td>\n",
       "    </tr>\n",
       "    <tr>\n",
       "      <th>3</th>\n",
       "      <td>4.6</td>\n",
       "      <td>3.1</td>\n",
       "      <td>1.5</td>\n",
       "      <td>0.2</td>\n",
       "      <td>setosa</td>\n",
       "    </tr>\n",
       "    <tr>\n",
       "      <th>4</th>\n",
       "      <td>5.0</td>\n",
       "      <td>3.6</td>\n",
       "      <td>1.4</td>\n",
       "      <td>0.2</td>\n",
       "      <td>setosa</td>\n",
       "    </tr>\n",
       "  </tbody>\n",
       "</table>\n",
       "</div>"
      ],
      "text/plain": [
       "   Sepal.Length  Sepal.Width  Petal.Length  Petal.Width Species\n",
       "0           5.1          3.5           1.4          0.2  setosa\n",
       "1           4.9          3.0           1.4          0.2  setosa\n",
       "2           4.7          3.2           1.3          0.2  setosa\n",
       "3           4.6          3.1           1.5          0.2  setosa\n",
       "4           5.0          3.6           1.4          0.2  setosa"
      ]
     },
     "execution_count": 8,
     "metadata": {},
     "output_type": "execute_result"
    }
   ],
   "source": [
    "import pandas as pd\n",
    "\n",
    "url=\"https://storage.googleapis.com/2017_ithome_ironman/data/iris.xlsx\"\n",
    "\n",
    "iris_df = pd.read_excel(url)\n",
    "iris_df.head()"
   ]
  },
  {
   "cell_type": "markdown",
   "metadata": {},
   "source": [
    "# 自訂函數"
   ]
  },
  {
   "cell_type": "code",
   "execution_count": 9,
   "metadata": {},
   "outputs": [
    {
     "name": "stdout",
     "output_type": "stream",
     "text": [
      "314.1592653589793\n"
     ]
    }
   ],
   "source": [
    "import math\n",
    "\n",
    "def circle(radius):\n",
    "    area = radius * radius * math.pi\n",
    "    return area\n",
    "\n",
    "print(circle(10)) # 呼叫定義完的函式，並傳入10計算圓面積"
   ]
  },
  {
   "cell_type": "code",
   "execution_count": 11,
   "metadata": {},
   "outputs": [
    {
     "name": "stdout",
     "output_type": "stream",
     "text": [
      "請輸入圓的半徑:50\n",
      "圓的半徑為 7853.981633974483\n"
     ]
    }
   ],
   "source": [
    "import math\n",
    "\n",
    "def circleArea(radius):\n",
    "    area = radius * radius * math.pi\n",
    "    return area\n",
    "radius = input(\"請輸入圓的半徑:\")\n",
    "print(\"圓的半徑為\", circle(float(radius)))"
   ]
  },
  {
   "cell_type": "markdown",
   "metadata": {},
   "source": [
    "# 交換排序法 example exchange sort"
   ]
  },
  {
   "cell_type": "code",
   "execution_count": 12,
   "metadata": {},
   "outputs": [
    {
     "name": "stdout",
     "output_type": "stream",
     "text": [
      "[56, 40, 89, 76, 33, 71, 19, 52, 54, 10]\n",
      "[10, 19, 33, 40, 52, 54, 56, 71, 76, 89]\n"
     ]
    }
   ],
   "source": [
    "import random # 由小排到大\n",
    "\n",
    "def exchange_sort(input_list):\n",
    "    a=input_list\n",
    "    for i in range(0, len(input_list)-1):\n",
    "        for j in range(i+1, len(input_list)):\n",
    "            if a[i] > a[j]:\n",
    "                a[i], a[j]=a[j], a[i]\n",
    "    return a\n",
    "\n",
    "my_vector = random.sample(range(0, 100), 10)\n",
    "print(my_vector)\n",
    "print(exchange_sort(my_vector))"
   ]
  },
  {
   "cell_type": "code",
   "execution_count": 13,
   "metadata": {},
   "outputs": [
    {
     "name": "stdout",
     "output_type": "stream",
     "text": [
      "[13, 30, 63, 34, 78, 33, 56, 64, 26, 54]\n",
      "[78, 64, 63, 56, 54, 34, 33, 30, 26, 13]\n"
     ]
    }
   ],
   "source": [
    "import random \n",
    "\n",
    "def exchange_sort(input_list):\n",
    "    a=input_list\n",
    "    for i in range(0, len(input_list)-1):\n",
    "        for j in range(i+1, len(input_list)):\n",
    "            if a[i] < a[j]:\n",
    "                a[i], a[j]=a[j], a[i]\n",
    "    return a\n",
    "\n",
    "my_vector = random.sample(range(0, 100), 10)\n",
    "print(my_vector)\n",
    "print(exchange_sort(my_vector))"
   ]
  },
  {
   "cell_type": "code",
   "execution_count": null,
   "metadata": {},
   "outputs": [],
   "source": []
  }
 ],
 "metadata": {
  "kernelspec": {
   "display_name": "Python 3",
   "language": "python",
   "name": "python3"
  },
  "language_info": {
   "codemirror_mode": {
    "name": "ipython",
    "version": 3
   },
   "file_extension": ".py",
   "mimetype": "text/x-python",
   "name": "python",
   "nbconvert_exporter": "python",
   "pygments_lexer": "ipython3",
   "version": "3.7.1"
  }
 },
 "nbformat": 4,
 "nbformat_minor": 2
}
