{
 "cells": [
  {
   "cell_type": "markdown",
   "metadata": {},
   "source": [
    "# 第二章 變數、資料型別與運算子 "
   ]
  },
  {
   "cell_type": "code",
   "execution_count": 2,
   "metadata": {},
   "outputs": [
    {
     "name": "stdout",
     "output_type": "stream",
     "text": [
      "8\n"
     ]
    }
   ],
   "source": [
    "#這是註解\n",
    "a=3\n",
    "b=5\n",
    "print(a+b)"
   ]
  },
  {
   "cell_type": "code",
   "execution_count": null,
   "metadata": {},
   "outputs": [],
   "source": [
    "'''\n",
    "這是第一行註解\n",
    "這是第二行註解\n",
    "\n",
    "'''\n",
    "a=3\n",
    "b=5\n",
    "print(a+b)"
   ]
  },
  {
   "cell_type": "code",
   "execution_count": 3,
   "metadata": {},
   "outputs": [
    {
     "name": "stdout",
     "output_type": "stream",
     "text": [
      "10\n",
      "1\n"
     ]
    }
   ],
   "source": [
    "x=1\n",
    "y=10\n",
    "x=x+y\n",
    "y=x-y\n",
    "x=x-y\n",
    "print(x)\n",
    "print(y)"
   ]
  },
  {
   "cell_type": "code",
   "execution_count": 4,
   "metadata": {},
   "outputs": [
    {
     "name": "stdout",
     "output_type": "stream",
     "text": [
      "10\n",
      "1\n"
     ]
    }
   ],
   "source": [
    "x=1 \n",
    "y=10\n",
    "x, y = y, x\n",
    "print(x)\n",
    "print(y)"
   ]
  },
  {
   "cell_type": "code",
   "execution_count": 5,
   "metadata": {},
   "outputs": [
    {
     "name": "stdout",
     "output_type": "stream",
     "text": [
      "4 8 125\n"
     ]
    }
   ],
   "source": [
    "x, y, z= 3, 4, 5\n",
    "x += 1\n",
    "y *= 2 \n",
    "z **= 3 # **就是計算五的三次方\n",
    "print(x,y,z)"
   ]
  },
  {
   "cell_type": "code",
   "execution_count": 6,
   "metadata": {},
   "outputs": [
    {
     "name": "stdout",
     "output_type": "stream",
     "text": [
      "6.0\n"
     ]
    }
   ],
   "source": [
    "import math #數學運算\n",
    "a, b, c=3, 4, 5\n",
    "s=(a+b+c)/2\n",
    "d=math.sqrt(s*(s-3)*(s-4)*(s-5))\n",
    "print(d)"
   ]
  },
  {
   "cell_type": "code",
   "execution_count": 8,
   "metadata": {},
   "outputs": [
    {
     "name": "stdout",
     "output_type": "stream",
     "text": [
      "<class 'int'>\n"
     ]
    },
    {
     "data": {
      "text/plain": [
       "140726015873840"
      ]
     },
     "execution_count": 8,
     "metadata": {},
     "output_type": "execute_result"
    }
   ],
   "source": [
    "x=256 # 整數型態\n",
    "print(type(x)) # 輸出其形態\n",
    "id(x)"
   ]
  },
  {
   "cell_type": "code",
   "execution_count": 9,
   "metadata": {},
   "outputs": [
    {
     "name": "stdout",
     "output_type": "stream",
     "text": [
      "<class 'str'>\n"
     ]
    },
    {
     "data": {
      "text/plain": [
       "1156171829488"
      ]
     },
     "execution_count": 9,
     "metadata": {},
     "output_type": "execute_result"
    }
   ],
   "source": [
    "y='underwater' # 字串型態\n",
    "print(type(y)) # 輸出其形態\n",
    "id(y)"
   ]
  },
  {
   "cell_type": "code",
   "execution_count": 10,
   "metadata": {},
   "outputs": [
    {
     "name": "stdout",
     "output_type": "stream",
     "text": [
      "95.42587685278995\n"
     ]
    }
   ],
   "source": [
    "#半徑為4.5，高度為4.5的圓錐體面積為何?\n",
    "import math\n",
    "print((4.5*4.5*math.pi*4.5)/3)"
   ]
  },
  {
   "cell_type": "code",
   "execution_count": 11,
   "metadata": {},
   "outputs": [
    {
     "name": "stdout",
     "output_type": "stream",
     "text": [
      "5.333333333333333\n",
      "5\n",
      "1\n"
     ]
    }
   ],
   "source": [
    "x=16\n",
    "y=3\n",
    "print(x/y)\n",
    "print(x//y) #求商\n",
    "print(x%y)  #求餘數"
   ]
  },
  {
   "cell_type": "code",
   "execution_count": 12,
   "metadata": {},
   "outputs": [
    {
     "name": "stdout",
     "output_type": "stream",
     "text": [
      "True\n",
      "False\n",
      "10\n"
     ]
    }
   ],
   "source": [
    "x=10\n",
    "print(20==20) #比較並且輸出值\n",
    "y=20\n",
    "print(x==y)\n",
    "y=x\n",
    "print(y)"
   ]
  },
  {
   "cell_type": "code",
   "execution_count": 13,
   "metadata": {},
   "outputs": [
    {
     "name": "stdout",
     "output_type": "stream",
     "text": [
      "0.0015926269999999576\n"
     ]
    }
   ],
   "source": [
    "x=3.141592627\n",
    "print(x-3.14) #比正確的值略小"
   ]
  },
  {
   "cell_type": "code",
   "execution_count": 14,
   "metadata": {},
   "outputs": [
    {
     "name": "stdout",
     "output_type": "stream",
     "text": [
      "True\n"
     ]
    }
   ],
   "source": [
    "#聯集比較\n",
    "a, b, c=10, 20, 30\n",
    "print(a<=b<=c)"
   ]
  },
  {
   "cell_type": "code",
   "execution_count": 17,
   "metadata": {},
   "outputs": [
    {
     "name": "stdout",
     "output_type": "stream",
     "text": [
      "False\n",
      "True\n",
      "True\n"
     ]
    }
   ],
   "source": [
    "#邏輯運算 以閏年為例\n",
    "y=2010\n",
    "print(y%4==0 and y%100!=0 or y%400==0)\n",
    "y=2012\n",
    "print(y%4==0 and y%100!=0 or y%400==0)\n",
    "y=2000\n",
    "print(y%4==0 and y%100!=0 or y%400==0)"
   ]
  },
  {
   "cell_type": "code",
   "execution_count": 19,
   "metadata": {},
   "outputs": [
    {
     "name": "stdout",
     "output_type": "stream",
     "text": [
      "12.5\n",
      "123\n",
      "123.0\n",
      "123\n",
      "The value of x is32.5and y is40000\n",
      "The value of x is32.5and y is40000\n"
     ]
    }
   ],
   "source": [
    "#型態轉換\n",
    "x=12\n",
    "y=float(x)+0.5\n",
    "print(y)\n",
    "print(int('123'))\n",
    "print(float(123))\n",
    "print(int(123.333))\n",
    "x=10*3.25\n",
    "y=200*200\n",
    "s='The value of x is' + str(x) + 'and y is' + str(y)\n",
    "s1='The value of x is' + repr(x) + 'and y is' + repr(y)\n",
    "print(s)\n",
    "print(s1)"
   ]
  },
  {
   "cell_type": "code",
   "execution_count": 20,
   "metadata": {},
   "outputs": [
    {
     "name": "stdout",
     "output_type": "stream",
     "text": [
      "3.141592653589793\n",
      "8.0\n",
      "26.423892221536985\n",
      "5.0\n"
     ]
    }
   ],
   "source": [
    "import math\n",
    "print(math.pi)\n",
    "print(math.pow(2,3))\n",
    "print(8.3*10.58*math.sin(37.0/180*math.pi)/2) \n",
    "print(math.sqrt(25))"
   ]
  },
  {
   "cell_type": "code",
   "execution_count": 21,
   "metadata": {},
   "outputs": [
    {
     "name": "stdout",
     "output_type": "stream",
     "text": [
      "請輸入半徑:10\n",
      "園面積為 : 314.1592653589793\n"
     ]
    }
   ],
   "source": [
    "import math\n",
    "r=input(\"請輸入半徑:\")\n",
    "area=float(r) * float(r) * math.pi #計算半徑為十的圓面積\n",
    "print(\"園面積為 :\" , area)"
   ]
  },
  {
   "cell_type": "markdown",
   "metadata": {},
   "source": [
    "#python 物件\n",
    "list: [4, 5, 6]\n",
    "tuple: (7, 8, 9) #不能改變其值\n",
    "dict: {1: 'purple', 2: 'horse', 3: 'destination'}\n",
    "sets: {tank, quaternion, smoothdamp} "
   ]
  },
  {
   "cell_type": "markdown",
   "metadata": {},
   "source": [
    "# 第三章 資料儲存容器tuple- 串列- 字典-集合"
   ]
  },
  {
   "cell_type": "code",
   "execution_count": 1,
   "metadata": {},
   "outputs": [
    {
     "name": "stdout",
     "output_type": "stream",
     "text": [
      "[4, 5, 6]\n",
      "frequently\n",
      "['iostream', 'deduct', 'frequently', 'youtube']\n"
     ]
    }
   ],
   "source": [
    "my_list0 = [4, 5, 6]\n",
    "print(my_list0)\n",
    "my_list1 = ['iostream', 'deduct', 'frequently']\n",
    "print(my_list1[2])\n",
    "my_list1.append('youtube')\n",
    "print(my_list1)"
   ]
  },
  {
   "cell_type": "code",
   "execution_count": 2,
   "metadata": {},
   "outputs": [
    {
     "name": "stdout",
     "output_type": "stream",
     "text": [
      "['9898', 'iostream', 'deduct', 'frequently', 'youtube']\n"
     ]
    }
   ],
   "source": [
    "#list插入值\n",
    "my_list1.insert(0, '9898')\n",
    "print(my_list1)"
   ]
  },
  {
   "cell_type": "code",
   "execution_count": 3,
   "metadata": {},
   "outputs": [
    {
     "name": "stdout",
     "output_type": "stream",
     "text": [
      "4\n",
      "5\n"
     ]
    }
   ],
   "source": [
    "#list長度\n",
    "my_list2 = ['transform', 'yield', 'snide', 'arise']\n",
    "print(len(my_list2))\n",
    "print(len(my_list2[3]))"
   ]
  },
  {
   "cell_type": "code",
   "execution_count": 4,
   "metadata": {},
   "outputs": [
    {
     "name": "stdout",
     "output_type": "stream",
     "text": [
      "['transform', 'snide', 'arise', 'roll']\n",
      "['snide', 'arise', 'roll']\n",
      "['snide', 'arise']\n"
     ]
    }
   ],
   "source": [
    "#list刪除\n",
    "my_list3 = ['transform', 'yield', 'snide', 'arise', 'roll']\n",
    "my_list3.remove('yield') #刪除某特定物件\n",
    "print(my_list3)\n",
    "del my_list3[0] #刪除某特定位置的物件\n",
    "print(my_list3)\n",
    "del my_list3[-1] #-1指的是從最後數來第一個位置\n",
    "print(my_list3)"
   ]
  },
  {
   "cell_type": "code",
   "execution_count": 5,
   "metadata": {},
   "outputs": [
    {
     "name": "stdout",
     "output_type": "stream",
     "text": [
      "False\n"
     ]
    }
   ],
   "source": [
    "#檢查hay是否存在\n",
    "print('hay' in ['pop', 'lecture', 'swallow'])"
   ]
  },
  {
   "cell_type": "code",
   "execution_count": 6,
   "metadata": {},
   "outputs": [
    {
     "name": "stdout",
     "output_type": "stream",
     "text": [
      "[8, 9, 8, 9, 8, 9, 8, 9, 8, 9, 8, 9, 8, 9, 8, 9]\n"
     ]
    }
   ],
   "source": [
    "a=[8, 9]\n",
    "print(a * 8) # 輸出 [8, 9] 八次"
   ]
  },
  {
   "cell_type": "code",
   "execution_count": 10,
   "metadata": {},
   "outputs": [
    {
     "name": "stdout",
     "output_type": "stream",
     "text": [
      "[9, 8, 7, 6, 5]\n",
      "[9, 7, 5, 3]\n",
      "[9, 8, 7, 6, 5, 4, 1, 0]\n",
      "9\n",
      "0\n",
      "4\n",
      "1\n"
     ]
    }
   ],
   "source": [
    "#串獵取值\n",
    "a=[9, 8, 7, 6, 5, 4, 3, 2, 1, 0]\n",
    "b=a[0:5] #包含0，但不包含5\n",
    "print(b)\n",
    "c=a[0:7:2] #間隔取值 [開始:結束:間隔]\n",
    "print(c)\n",
    "del a[6:8]\n",
    "print(a)\n",
    "print(max(a)) #最大值\n",
    "print(min(a)) #最小值\n",
    "print(a.index(5)) #5出現的索引值\n",
    "print(a.count(5)) #5出現的次數"
   ]
  },
  {
   "cell_type": "code",
   "execution_count": 12,
   "metadata": {},
   "outputs": [
    {
     "name": "stdout",
     "output_type": "stream",
     "text": [
      "[0, 1, 4, 5, 6, 7, 8, 9]\n",
      "[9, 8, 7, 6, 5, 4, 1, 0]\n",
      "[0, 1, 4, 5, 6, 7, 8, 9]\n"
     ]
    }
   ],
   "source": [
    "print(a)\n",
    "a.reverse()#串列反轉\n",
    "print(a)\n",
    "a.sort()#串列排序\n",
    "print(a)"
   ]
  },
  {
   "cell_type": "code",
   "execution_count": 13,
   "metadata": {},
   "outputs": [
    {
     "name": "stdout",
     "output_type": "stream",
     "text": [
      "987\n",
      "ios\n",
      "[671, 9401]\n",
      "9401\n"
     ]
    }
   ],
   "source": [
    "a=[987, 'ios', [671, 9401], [87145, 9721]] # 是一個串列\n",
    "print(a[0]) #輸出索引值0的值\n",
    "print(a[1]) #輸出索引值1的值\n",
    "print(a[2]) #輸出索引值2的值\n",
    "print(a[2][1]) #輸出索引值2號裡面的1號的值"
   ]
  },
  {
   "cell_type": "code",
   "execution_count": 14,
   "metadata": {},
   "outputs": [
    {
     "name": "stdout",
     "output_type": "stream",
     "text": [
      "[95425, 969879, 89656, 660400, 8944, 99841]\n"
     ]
    }
   ],
   "source": [
    "a=[95425, 969879] + [89656, 660400] + [8944, 99841] # 全部連起來\n",
    "print(a)"
   ]
  },
  {
   "cell_type": "code",
   "execution_count": 15,
   "metadata": {},
   "outputs": [
    {
     "name": "stdout",
     "output_type": "stream",
     "text": [
      "orange\n",
      "cellphone\n",
      "chocolate\n",
      "iostream\n"
     ]
    }
   ],
   "source": [
    "shoplist = ['orange', 'cellphone', 'chocolate', 'iostream'] #這是一個集合\n",
    "for something in shoplist: #將集合中的元素取出 並印出來\n",
    "    print(something)"
   ]
  },
  {
   "cell_type": "code",
   "execution_count": 16,
   "metadata": {},
   "outputs": [
    {
     "name": "stdout",
     "output_type": "stream",
     "text": [
      "<class 'list'>\n",
      "<class 'tuple'>\n",
      "('java', 'js', 'c#')\n"
     ]
    }
   ],
   "source": [
    "a_list=['java', 'js', 'c#'] #集合\n",
    "a_tuple = ('java', 'js', 'c#') #tuple 可以看作是一個部會改變的list\n",
    "b_tuple= tuple(a_list)\n",
    "print(type(a_list))\n",
    "print(type(a_tuple))\n",
    "print(b_tuple)"
   ]
  },
  {
   "cell_type": "code",
   "execution_count": 17,
   "metadata": {},
   "outputs": [
    {
     "name": "stdout",
     "output_type": "stream",
     "text": [
      "(888, 555, 666)\n",
      "<class 'tuple'>\n"
     ]
    }
   ],
   "source": [
    "c_tuple = 888, 555, 666\n",
    "print(c_tuple)\n",
    "print(type(c_tuple)) # 看出tuple的型態"
   ]
  },
  {
   "cell_type": "code",
   "execution_count": 19,
   "metadata": {},
   "outputs": [
    {
     "name": "stdout",
     "output_type": "stream",
     "text": [
      "python\n",
      "python\n",
      "python\n"
     ]
    }
   ],
   "source": [
    "a_list = ['python', 'js', 'c#']\n",
    "a_dict = {0: 'python', 1:'js', 3:'c#'} #dict 就像字典一樣 但是有 key (鑰)和 value (值)\n",
    "print(a_list[0]) # 印出0號值\n",
    "print(a_list[0])\n",
    "b_dict = {'1st':'python', '2nd':'js', '3rd': 'c#'} # 印出時 也需要指定 key 輸出相對應的值\n",
    "print(b_dict['1st'])"
   ]
  },
  {
   "cell_type": "code",
   "execution_count": null,
   "metadata": {},
   "outputs": [],
   "source": []
  }
 ],
 "metadata": {
  "kernelspec": {
   "display_name": "Python 3",
   "language": "python",
   "name": "python3"
  },
  "language_info": {
   "codemirror_mode": {
    "name": "ipython",
    "version": 3
   },
   "file_extension": ".py",
   "mimetype": "text/x-python",
   "name": "python",
   "nbconvert_exporter": "python",
   "pygments_lexer": "ipython3",
   "version": "3.7.1"
  }
 },
 "nbformat": 4,
 "nbformat_minor": 2
}
